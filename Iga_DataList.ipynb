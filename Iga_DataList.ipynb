{
  "nbformat": 4,
  "nbformat_minor": 0,
  "metadata": {
    "colab": {
      "provenance": []
    },
    "kernelspec": {
      "name": "python3",
      "display_name": "Python 3"
    },
    "language_info": {
      "name": "python"
    }
  },
  "cells": [
    {
      "cell_type": "code",
      "execution_count": 1,
      "metadata": {
        "colab": {
          "base_uri": "https://localhost:8080/"
        },
        "id": "DwRiGf0W5Eyh",
        "outputId": "be2ef33a-bda5-46ec-e088-1dfc404f9567"
      },
      "outputs": [
        {
          "output_type": "stream",
          "name": "stdout",
          "text": [
            "<class 'list'>\n"
          ]
        }
      ],
      "source": [
        "#LatihanList\n",
        "A = [\"ayu\",\"dinda\",\"mayla\"]\n",
        "print(type(A))\n"
      ]
    },
    {
      "cell_type": "code",
      "source": [
        "#LatihanSifatList\n",
        "\n",
        "#Terurut/ordered\n",
        "print(\"memanggil list A dengan indeks berurutan:\", A[0:0])\n",
        "print(\"memanggil list A dengan indeks berurutan:\", A[0:1])\n",
        "print(\"memanggil list A dengan indeks berurutan:\", A[0:2])\n",
        "print(\"memanggil list A dengan indeks berurutan:\", A[0:3])\n",
        "\n"
      ],
      "metadata": {
        "colab": {
          "base_uri": "https://localhost:8080/"
        },
        "id": "KPBz9hOY51GM",
        "outputId": "e182bee8-331d-4557-e3e9-b9a49fcca9d1"
      },
      "execution_count": 7,
      "outputs": [
        {
          "output_type": "stream",
          "name": "stdout",
          "text": [
            "memanggil list A dengan indeks berurutan: []\n",
            "memanggil list A dengan indeks berurutan: ['ayu']\n",
            "memanggil list A dengan indeks berurutan: ['ayu', 'dinda']\n",
            "memanggil list A dengan indeks berurutan: ['ayu', 'dinda', 'mayla']\n"
          ]
        }
      ]
    },
    {
      "cell_type": "code",
      "source": [
        "#bisa diganti/mutable\n",
        "A[1] = 3\n",
        "A[0] = 2\n",
        "A[2] = 4\n",
        "print(\"list A setelah diganti elemennya:\", A)\n"
      ],
      "metadata": {
        "colab": {
          "base_uri": "https://localhost:8080/"
        },
        "id": "8yqEVZ7Y7G01",
        "outputId": "92a362b8-18c8-40c1-dca1-18b30a1944de"
      },
      "execution_count": 12,
      "outputs": [
        {
          "output_type": "stream",
          "name": "stdout",
          "text": [
            "list A setelah diganti elemennya: [2, 3, 4]\n"
          ]
        }
      ]
    },
    {
      "cell_type": "code",
      "source": [
        "#Dapat diindeks/slicing\n",
        "print(\"slicing list A:\", A[0])\n",
        "print(\"slicing list A:\", A[1])\n",
        "print(\"slicing list A:\", A[2])"
      ],
      "metadata": {
        "colab": {
          "base_uri": "https://localhost:8080/"
        },
        "id": "S6V6Nabs8_9Q",
        "outputId": "4e576e68-c050-439c-8329-50ccdde2abf6"
      },
      "execution_count": 14,
      "outputs": [
        {
          "output_type": "stream",
          "name": "stdout",
          "text": [
            "slicing list A: 2\n",
            "slicing list A: 3\n",
            "slicing list A: 4\n"
          ]
        }
      ]
    },
    {
      "cell_type": "code",
      "source": [
        "#Dapat diijinkan duplikasi\n",
        "A = [\"ayu\",\"dinda\",\"mayla\", 2+3j]\n",
        "print(\"duplikasi pada A:\", A)"
      ],
      "metadata": {
        "colab": {
          "base_uri": "https://localhost:8080/"
        },
        "id": "Jw2Lu5EN9nni",
        "outputId": "19f5f0ba-5778-4a18-c64c-681204f3d0e6"
      },
      "execution_count": 16,
      "outputs": [
        {
          "output_type": "stream",
          "name": "stdout",
          "text": [
            "duplikasi pada A: ['ayu', 'dinda', 'mayla', (2+3j)]\n"
          ]
        }
      ]
    },
    {
      "cell_type": "code",
      "source": [
        "#Dapat mengubah data dengan mengganti elemen tertentu\n",
        "A = [\"ayu\",\"dinda\",\"mayla\", 2+3j]\n",
        "A[3] = \"sayang\"\n",
        "print(\"data setelah diubah:\", A)"
      ],
      "metadata": {
        "colab": {
          "base_uri": "https://localhost:8080/"
        },
        "id": "vG8c-RM79lO9",
        "outputId": "0214f109-34dd-43b9-9f2c-93a06302c340"
      },
      "execution_count": 17,
      "outputs": [
        {
          "output_type": "stream",
          "name": "stdout",
          "text": [
            "data setelah diubah: ['ayu', 'dinda', 'mayla', 'sayang']\n"
          ]
        }
      ]
    },
    {
      "cell_type": "code",
      "source": [
        "#Dapat menambahkan elemen baru pada data\n",
        "A = [\"ayu\",\"dinda\",\"mayla\", 2+3j]\n",
        "A.append(10)\n",
        "print(\"data setelah ditambahkan elemennya\",A)"
      ],
      "metadata": {
        "colab": {
          "base_uri": "https://localhost:8080/"
        },
        "id": "GbvuOzuy-mC_",
        "outputId": "f8ba4af8-bf2b-46b2-f795-98f2e616dc4f"
      },
      "execution_count": 18,
      "outputs": [
        {
          "output_type": "stream",
          "name": "stdout",
          "text": [
            "data setelah ditambahkan elemennya ['ayu', 'dinda', 'mayla', (2+3j), 10]\n"
          ]
        }
      ]
    },
    {
      "cell_type": "code",
      "source": [
        "#Dapat menghapus elemen pada data(remove[]= menghapus berdasarkan nama objek)\n",
        "A = [\"ayu\",\"dinda\",\"mayla\", 2+3j]\n",
        "A.remove(2+3j)\n",
        "print(\"data setelah dihapus elemennya:\",A)"
      ],
      "metadata": {
        "colab": {
          "base_uri": "https://localhost:8080/"
        },
        "id": "5H4EeqlF-8PR",
        "outputId": "accda1f9-34d3-4464-aaaa-9b3ae923f316"
      },
      "execution_count": 19,
      "outputs": [
        {
          "output_type": "stream",
          "name": "stdout",
          "text": [
            "data setelah dihapus elemennya: ['ayu', 'dinda', 'mayla']\n"
          ]
        }
      ]
    },
    {
      "cell_type": "code",
      "source": [
        "#Menambahkan data menggunakan fungsi extend(menambahkan elemen baru pada list namun elemen tersebut ditambahkan secara individu)\n",
        "A = [\"ayu\",\"dinda\",\"mayla\", 2+3j]\n",
        "A.extend(\"CINTA\")\n",
        "A.extend([\"CINTA\"])\n",
        "print(A)"
      ],
      "metadata": {
        "colab": {
          "base_uri": "https://localhost:8080/"
        },
        "id": "DXjtLiZlALJL",
        "outputId": "955ed18c-83ea-4945-ce4f-ee512d7c684c"
      },
      "execution_count": 24,
      "outputs": [
        {
          "output_type": "stream",
          "name": "stdout",
          "text": [
            "['ayu', 'dinda', 'mayla', (2+3j), 'C', 'I', 'N', 'T', 'A', 'CINTA']\n"
          ]
        }
      ]
    },
    {
      "cell_type": "code",
      "source": [
        "#Menambahkan data menggunakan fungsi insert(menambahkan elemen baru di list pada indeks tertentu)\n",
        "A = [\"ayu\",\"dinda\",\"mayla\", 2+3j]\n",
        "A.insert(1,\"zellya\")\n",
        "print(A)"
      ],
      "metadata": {
        "colab": {
          "base_uri": "https://localhost:8080/"
        },
        "id": "6TP25xcHBFGU",
        "outputId": "6ae90779-c65e-4113-ce3f-b49c7dad421c"
      },
      "execution_count": 26,
      "outputs": [
        {
          "output_type": "stream",
          "name": "stdout",
          "text": [
            "['ayu', 'zellya', 'dinda', 'mayla', (2+3j)]\n"
          ]
        }
      ]
    },
    {
      "cell_type": "code",
      "source": [
        "#Menghapus elemen dari list menggunakan fungsi pop()(menghapus berdasarkan indeks)\n",
        "A = [\"ayu\",\"dinda\",\"mayla\", 2+3j]\n",
        "A.pop(1)\n",
        "print(A)"
      ],
      "metadata": {
        "colab": {
          "base_uri": "https://localhost:8080/"
        },
        "id": "1-8TKsOrBlgJ",
        "outputId": "7893f98d-aef2-4062-cd51-a8b991b8ecb9"
      },
      "execution_count": 27,
      "outputs": [
        {
          "output_type": "stream",
          "name": "stdout",
          "text": [
            "['ayu', 'mayla', (2+3j)]\n"
          ]
        }
      ]
    }
  ]
}