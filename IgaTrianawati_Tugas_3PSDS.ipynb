{
  "nbformat": 4,
  "nbformat_minor": 0,
  "metadata": {
    "colab": {
      "provenance": []
    },
    "kernelspec": {
      "name": "python3",
      "display_name": "Python 3"
    },
    "language_info": {
      "name": "python"
    }
  },
  "cells": [
    {
      "cell_type": "markdown",
      "source": [
        "Latihan Aritmatika"
      ],
      "metadata": {
        "id": "H5WVugDSH0we"
      }
    },
    {
      "cell_type": "code",
      "execution_count": 1,
      "metadata": {
        "colab": {
          "base_uri": "https://localhost:8080/"
        },
        "id": "E70Mbyf7HztQ",
        "outputId": "b62fe734-34be-40e8-e503-e46a8b33741b"
      },
      "outputs": [
        {
          "output_type": "stream",
          "name": "stdout",
          "text": [
            "Penjumlahan\n",
            "6+6\n",
            "Pengurangan\n",
            "--------------------\n",
            "1\n",
            "Perkalian\n",
            "--------------------\n",
            "48\n",
            "Pembagian\n",
            "--------------------\n",
            "0.6666666666666666\n",
            "Modulus\n",
            "--------------------\n",
            "2\n",
            "Perpangkatan\n",
            "--------------------\n",
            "4096\n",
            "Pembagian dengan hasil pembulatan flooring \n",
            "--------------------\n",
            "1\n"
          ]
        }
      ],
      "source": [
        "#Penjumlahan\n",
        "print('Penjumlahan')\n",
        "print('6+6')\n",
        "#Pengurangan\n",
        "print('Pengurangan')\n",
        "print('-'*20)\n",
        "print(5-4)\n",
        "#Perkalian\n",
        "print('Perkalian')\n",
        "print('-'*20)\n",
        "print(6*8)\n",
        "#Pembagian\n",
        "print('Pembagian')\n",
        "print('-'*20)\n",
        "print(4/6)\n",
        "#Modulus\n",
        "print('Modulus')\n",
        "print('-'*20)\n",
        "print(6%4)\n",
        "#Perpangkatan\n",
        "print('Perpangkatan')\n",
        "print('-'*20)\n",
        "print(4**6)\n",
        "#Pembagian dengan hasil pembulatan flooring\n",
        "print('Pembagian dengan hasil pembulatan flooring ')\n",
        "print('-'*20)\n",
        "print(6//4)"
      ]
    },
    {
      "cell_type": "markdown",
      "source": [
        "Latihan Operator Assigment"
      ],
      "metadata": {
        "id": "Z8Ji_n-gLdAC"
      }
    },
    {
      "cell_type": "code",
      "source": [
        "#Penjumlahan\n",
        "print('Penjumlahan')\n",
        "x = 10\n",
        "x = x+10\n",
        "print(x)\n",
        "x = 10\n",
        "x+=10\n",
        "print(x)\n",
        "print('-'*20)\n",
        "#Pengurangan\n",
        "print('Pengurangan')\n",
        "x = 10\n",
        "x = x-10\n",
        "print(x)\n",
        "x = 10\n",
        "x-=10\n",
        "print(x)\n",
        "print('-'*20)\n",
        "#Perkalian\n",
        "print('Perkalian')\n",
        "x = 10\n",
        "x = x*10\n",
        "print(x)\n",
        "x = 10\n",
        "x*=10\n",
        "print(x)\n",
        "print('-'*20)\n",
        "#Pembagian\n",
        "print('Pembagian')\n",
        "x = 10\n",
        "x = x/10\n",
        "print(x)\n",
        "x = 10\n",
        "x/=10\n",
        "print(x)\n",
        "print('-'*20)\n",
        "#Modulus\n",
        "print('Perkalian')\n",
        "x = 10\n",
        "x = x%10\n",
        "print(x)\n",
        "x = 10\n",
        "x%=10\n",
        "print(x)\n",
        "print('-'*20)\n",
        "##Perkalian\n",
        "print('Perkalian')\n",
        "x = 10\n",
        "x = x*10\n",
        "print(x)\n",
        "x = 10\n",
        "x*=10\n",
        "print(x)\n",
        "print('-'*20)\n",
        "#Pembagian flooring\n",
        "print('Pembagian flooring')\n",
        "x = 10\n",
        "x = x//10\n",
        "print(x)\n",
        "x = 10\n",
        "x//=10\n",
        "print(x)\n",
        "print('-'*20)\n",
        "#Perpangkatan\n",
        "print('Perpangkatan')\n",
        "x = 10\n",
        "x = x**10\n",
        "print(x)\n",
        "x = 10\n",
        "x**=10\n",
        "print(x)\n",
        "print('-'*20)"
      ],
      "metadata": {
        "colab": {
          "base_uri": "https://localhost:8080/"
        },
        "id": "dHmM-tc1LgUz",
        "outputId": "b9c5b36b-e3df-45fa-b610-8a00beb1d959"
      },
      "execution_count": 2,
      "outputs": [
        {
          "output_type": "stream",
          "name": "stdout",
          "text": [
            "Penjumlahan\n",
            "20\n",
            "20\n",
            "--------------------\n",
            "Pengurangan\n",
            "0\n",
            "0\n",
            "--------------------\n",
            "Perkalian\n",
            "100\n",
            "100\n",
            "--------------------\n",
            "Pembagian\n",
            "1.0\n",
            "1.0\n",
            "--------------------\n",
            "Perkalian\n",
            "0\n",
            "0\n",
            "--------------------\n",
            "Perkalian\n",
            "100\n",
            "100\n",
            "--------------------\n",
            "Pembagian flooring\n",
            "1\n",
            "1\n",
            "--------------------\n",
            "Perpangkatan\n",
            "10000000000\n",
            "10000000000\n",
            "--------------------\n"
          ]
        }
      ]
    },
    {
      "cell_type": "markdown",
      "source": [
        "Latihan Operator Pembanding"
      ],
      "metadata": {
        "id": "sH16_Jf_MWpi"
      }
    },
    {
      "cell_type": "code",
      "source": [
        "print(4==4)\n",
        "print(4!=4)\n",
        "print(4>4)\n",
        "print(4<4)\n",
        "print(4>=4)\n",
        "print(4<=4)"
      ],
      "metadata": {
        "colab": {
          "base_uri": "https://localhost:8080/"
        },
        "id": "glWRbXCeMZf5",
        "outputId": "b86390de-6bdf-4ef8-a2c5-88cc017f9f32"
      },
      "execution_count": 3,
      "outputs": [
        {
          "output_type": "stream",
          "name": "stdout",
          "text": [
            "True\n",
            "False\n",
            "False\n",
            "False\n",
            "True\n",
            "True\n"
          ]
        }
      ]
    },
    {
      "cell_type": "markdown",
      "source": [
        "Latihan Operator Logika"
      ],
      "metadata": {
        "id": "agBuy9cZNeu3"
      }
    },
    {
      "cell_type": "code",
      "source": [
        "print(False and True)\n",
        "print(True or True)\n",
        "print(not True and False)"
      ],
      "metadata": {
        "colab": {
          "base_uri": "https://localhost:8080/"
        },
        "id": "ZrbHEdJANbIz",
        "outputId": "fdea2477-52d7-4aac-ab64-4dfe6e6a61c8"
      },
      "execution_count": 4,
      "outputs": [
        {
          "output_type": "stream",
          "name": "stdout",
          "text": [
            "False\n",
            "True\n",
            "False\n"
          ]
        }
      ]
    },
    {
      "cell_type": "markdown",
      "source": [
        "  Latihan Membership/Keanggotaan"
      ],
      "metadata": {
        "id": "DsBFtYx8NxWg"
      }
    },
    {
      "cell_type": "code",
      "source": [
        "a = (7,8,9,10,11,12)\n",
        "b = 8\n",
        "print (b in a)\n",
        "print ('-'*20)\n",
        "a = (7,8,9,10,11,12)\n",
        "b = 13\n",
        "print (b not in a)\n"
      ],
      "metadata": {
        "colab": {
          "base_uri": "https://localhost:8080/"
        },
        "id": "FK0tXsSmN-sD",
        "outputId": "31e298e0-9027-4b04-8c76-e0f8972fb584"
      },
      "execution_count": 5,
      "outputs": [
        {
          "output_type": "stream",
          "name": "stdout",
          "text": [
            "True\n",
            "--------------------\n",
            "True\n"
          ]
        }
      ]
    },
    {
      "cell_type": "markdown",
      "source": [
        "Variabel"
      ],
      "metadata": {
        "id": "rgUUY6UOPN2W"
      }
    },
    {
      "cell_type": "code",
      "source": [
        "kalimat = 'ini adalah keajaiban'\n",
        "print(kalimat)\n",
        "bilangan1 = 6\n",
        "print(bilangan1)\n",
        "bilangan2 = 4.6\n",
        "print(bilangan2)\n",
        "bilangan3 = True\n",
        "print(bilangan3)\n",
        "bilangan4 = 1j+6\n",
        "print(bilangan4)\n"
      ],
      "metadata": {
        "colab": {
          "base_uri": "https://localhost:8080/"
        },
        "id": "9WDsuDvcPRff",
        "outputId": "8ebe81ce-cdb4-443b-dd94-1c5f0e0b355e"
      },
      "execution_count": 6,
      "outputs": [
        {
          "output_type": "stream",
          "name": "stdout",
          "text": [
            "ini adalah keajaiban\n",
            "6\n",
            "4.6\n",
            "True\n",
            "(6+1j)\n"
          ]
        }
      ]
    },
    {
      "cell_type": "markdown",
      "source": [
        "Latihan Tipe Data dan Konversi Tipe data"
      ],
      "metadata": {
        "id": "Z47LJNKeP1C6"
      }
    },
    {
      "cell_type": "code",
      "source": [
        "print(type(kalimat))\n",
        "print(type(bilangan1))\n",
        "print(type(bilangan2))\n",
        "print(type(bilangan3))\n",
        "print(type(bilangan4))"
      ],
      "metadata": {
        "colab": {
          "base_uri": "https://localhost:8080/"
        },
        "id": "MqdLRVpCP_1W",
        "outputId": "f0781d6b-f956-4c37-ac90-dc5fad0f744f"
      },
      "execution_count": 7,
      "outputs": [
        {
          "output_type": "stream",
          "name": "stdout",
          "text": [
            "<class 'str'>\n",
            "<class 'int'>\n",
            "<class 'float'>\n",
            "<class 'bool'>\n",
            "<class 'complex'>\n"
          ]
        }
      ]
    },
    {
      "cell_type": "code",
      "source": [
        "print(int(bilangan2))\n",
        "print(int(bilangan3))\n",
        "\n",
        "print(float(bilangan1))\n",
        "print(float(bilangan3))\n",
        "\n",
        "print(str(bilangan1))\n",
        "print(str(bilangan2))\n",
        "print(str(bilangan3))\n",
        "\n",
        "print(bool(bilangan1))\n",
        "print(bool(bilangan2))\n",
        "\n",
        "print(complex(bilangan1))\n",
        "print(complex(bilangan2))\n",
        "print(complex(bilangan3))\n"
      ],
      "metadata": {
        "colab": {
          "base_uri": "https://localhost:8080/"
        },
        "id": "HsgOA0qbQgwI",
        "outputId": "c8bb6e74-0c02-412c-8787-a913987340e4"
      },
      "execution_count": 8,
      "outputs": [
        {
          "output_type": "stream",
          "name": "stdout",
          "text": [
            "4\n",
            "1\n",
            "6.0\n",
            "1.0\n",
            "6\n",
            "4.6\n",
            "True\n",
            "True\n",
            "True\n",
            "(6+0j)\n",
            "(4.6+0j)\n",
            "(1+0j)\n"
          ]
        }
      ]
    }
  ]
}